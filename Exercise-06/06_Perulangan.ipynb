{
 "cells": [
  {
   "cell_type": "markdown",
   "metadata": {},
   "source": [
    "***\n",
    "<h1 align=\"center\">Exercise 06</h1>\n",
    " \n",
    "***\n",
    "## While Loop\n",
    "## Exercise 6.1\n",
    "isilah bagian rumpang berikut. xx diganti tanggal lahir dan yy diganti menjadi bulan lahir. tandanya menyesuaikan yang lebih besar."
   ]
  },
  {
   "cell_type": "code",
   "execution_count": 6,
   "metadata": {},
   "outputs": [
    {
     "name": "stdout",
     "output_type": "stream",
     "text": [
      "Life must go on\n",
      "Life must go on\n",
      "Life must go on\n",
      "Life must go on\n",
      "Life must go on\n",
      "Life must go on\n"
     ]
    }
   ],
   "source": [
    "#menentukan banyak pengulangan\n",
    "n = 7\n",
    "\n",
    "#melakukan pengulangan\n",
    "i = 12\n",
    "\n",
    "while i >= n :\n",
    "    print (\"Life must go on\")\n",
    "    i = i - 1 # sesuaikan dengan atas agar fungsi perulangan dapat berhenti"
   ]
  },
  {
   "cell_type": "markdown",
   "metadata": {},
   "source": [
    "## Exercise 6.2\n",
    "\n",
    "Buatlah code seperti yang dicontohkan pada modul agar user dapat menginputkan sendiri jumlah n yang diinginkan"
   ]
  },
  {
   "cell_type": "code",
   "execution_count": 2,
   "metadata": {},
   "outputs": [
    {
     "name": "stdout",
     "output_type": "stream",
     "text": [
      "7\n",
      "8\n",
      "9\n",
      "10\n",
      "11\n",
      "12\n",
      "13\n",
      "14\n",
      "15\n",
      "16\n",
      "17\n",
      "18\n",
      "19\n",
      "20\n",
      "21\n",
      "22\n"
     ]
    }
   ],
   "source": [
    "#Kerjakan disini\n",
    "n = int(input(\"Input nilai n: \"))\n",
    "i = 7\n",
    "\n",
    "while i <= n:\n",
    "    print (i)\n",
    "    i = i + 1"
   ]
  },
  {
   "cell_type": "markdown",
   "metadata": {},
   "source": [
    "## Excercise 6.3\n",
    "\n",
    "isilah xx, yy, dan tanda rumpang seperti pada exercise 6.1\n"
   ]
  },
  {
   "cell_type": "code",
   "execution_count": 5,
   "metadata": {},
   "outputs": [
    {
     "name": "stdout",
     "output_type": "stream",
     "text": [
      "Baris ke-7 : Bumi Manusia\n",
      "Baris ke-8 : Bumi Manusia\n",
      "Baris ke-9 : Bumi Manusia\n",
      "Baris ke-10 : Bumi Manusia\n",
      "Baris ke-11 : Bumi Manusia\n",
      "Baris ke-12 : Bumi Manusia\n"
     ]
    }
   ],
   "source": [
    "#melakukan pengulangan\n",
    "i = 7\n",
    "\n",
    "while i <= 12 :\n",
    "    print (\"Baris ke-%d : Bumi Manusia\"%i)\n",
    "    #isi titik-titik dengan judul film favorit kalian\n",
    "    i = i + 1"
   ]
  },
  {
   "cell_type": "markdown",
   "metadata": {},
   "source": [
    "## FOR LOOP\n",
    "\n",
    "## Exercise 6.4\n",
    "\n",
    "munculkan 3 dari 7 elemen yang berada di dalam list1 dan list2\n"
   ]
  },
  {
   "cell_type": "code",
   "execution_count": 6,
   "metadata": {},
   "outputs": [
    {
     "name": "stdout",
     "output_type": "stream",
     "text": [
      "5 Ayam suwir Gianyar\n",
      "6 Ayam Sambal Matah Buleleng\n",
      "7 Ayam Kremes Klungkung\n"
     ]
    }
   ],
   "source": [
    "list1 = [\"Ayam Kecap\", \"Ayam Bakar\", \"Ayam Geprek\", \"Ayam Balado\", \"Ayam suwir\", \"Ayam Sambal Matah\", \"Ayam Kremes\"] #masukkan 7 list makanan favorit kalian\n",
    "list2 = [\"Denpasar\", \"Jembrana\", \"Bangli\", \"Badung\", \"Gianyar\", \"Buleleng\", \"Klungkung\"] #masukkan 7 list kota favorit kalian\n",
    "\n",
    "for i in range(4,7) :\n",
    "    print(i+1, list1[i] , list2[i])"
   ]
  },
  {
   "cell_type": "markdown",
   "metadata": {},
   "source": [
    "## Perulangan Bersarang\n",
    "\n",
    "## Exercise 6.5"
   ]
  },
  {
   "cell_type": "code",
   "execution_count": 14,
   "metadata": {},
   "outputs": [
    {
     "name": "stdout",
     "output_type": "stream",
     "text": [
      "49 \n",
      "56 64 \n",
      "63 72 81 \n",
      "70 80 90 100 \n",
      "77 88 99 110 121 \n",
      "84 96 108 120 132 144 \n"
     ]
    }
   ],
   "source": [
    "i = 7\n",
    "while i <= 12:\n",
    "    j = 7\n",
    "    while j <= i:\n",
    "        print(\"%d \" % (i*j), end = '')\n",
    "        j = j + 1\n",
    "    print()\n",
    "    i+=1"
   ]
  },
  {
   "cell_type": "markdown",
   "metadata": {},
   "source": [
    "## Pernyataan Loncat\n",
    "\n",
    "## Exercise 6.\n",
    "\n",
    "Buatlah fungsi berikut agar muncul angka hingga berhenti sesuai dengan nilai qq\n",
    "qq = angka favorit kalian\n",
    "pp>qq"
   ]
  },
  {
   "cell_type": "code",
   "execution_count": 15,
   "metadata": {},
   "outputs": [
    {
     "name": "stdout",
     "output_type": "stream",
     "text": [
      "0123456789101112"
     ]
    }
   ],
   "source": [
    "for i in range(19):\n",
    "    print(i,end='')\n",
    "    if i == 12:\n",
    "        break"
   ]
  },
  {
   "cell_type": "markdown",
   "metadata": {},
   "source": [
    "***\n",
    "<h1 align=\"center\">WELL DONE</h1>\n",
    " \n",
    "***"
   ]
  }
 ],
 "metadata": {
  "interpreter": {
   "hash": "cd08f94adcf3cbae37fe85286256f4c2a10455ca9094fd053e9f3d3f09647223"
  },
  "kernelspec": {
   "display_name": "Python 3.9.7 64-bit",
   "language": "python",
   "name": "python3"
  },
  "language_info": {
   "codemirror_mode": {
    "name": "ipython",
    "version": 3
   },
   "file_extension": ".py",
   "mimetype": "text/x-python",
   "name": "python",
   "nbconvert_exporter": "python",
   "pygments_lexer": "ipython3",
   "version": "3.10.3"
  },
  "orig_nbformat": 4
 },
 "nbformat": 4,
 "nbformat_minor": 2
}
